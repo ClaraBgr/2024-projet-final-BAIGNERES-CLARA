{
 "cells": [
  {
   "cell_type": "markdown",
   "metadata": {},
   "source": [
    "# What is the difference in lexical complexity between French and English in the expression of emotions?"
   ]
  },
  {
   "cell_type": "markdown",
   "metadata": {},
   "source": [
    "## 1. Question"
   ]
  },
  {
   "cell_type": "markdown",
   "metadata": {},
   "source": [
    "Today we live in a world where more than 7,000 languages ​​coexist, not to mention the thousands of existing dialects. In the era of globalization and where everything is shared and exchanged, translation is essential, so much so that some people make it their job (interpreters, translators). It is known that translation should not be done \"word by word\" but \"expression by expression\". An expression that might only require one word in one language, can represent a group of words in another, as already seen in class. What interests me today is the difference in lexical complexity between two languages ​​when it comes to expressing emotions. That's why I'm going to try to understand:\n",
    "\n",
    "### What is the difference in lexical complexity between French and English in the expression of emotions?\n",
    "\n",
    "I will carry out this study on French and English, first of all because these are the languages ​​that my dataset lists, and then because I find it interesting to start this study with two common languages. But it would be just as interesting to carry out this analysis on other languages ​​and dialects later."
   ]
  },
  {
   "cell_type": "markdown",
   "metadata": {},
   "source": [
    "## 2. Data"
   ]
  },
  {
   "cell_type": "markdown",
   "metadata": {},
   "source": [
    "### 2.1 Library import"
   ]
  },
  {
   "cell_type": "markdown",
   "metadata": {},
   "source": [
    "I start by importing the libraries necessary for my analysis."
   ]
  },
  {
   "cell_type": "code",
   "execution_count": 1,
   "metadata": {},
   "outputs": [],
   "source": [
    "import pandas as pd\n",
    "import scipy.stats as stats\n",
    "import numpy as np\n",
    "import matplotlib.pyplot as plt\n",
    "from scipy.stats import ttest_rel"
   ]
  },
  {
   "cell_type": "markdown",
   "metadata": {},
   "source": [
    "## 2.2 Data import"
   ]
  },
  {
   "cell_type": "markdown",
   "metadata": {},
   "source": [
    "I then import my dataset composed of three columns: the first which says whether yes (1) or no (0) an emotion is present in the comment, the second which lists the comments in French in question (which relate to films) and the third which is the English translation of each of the comments."
   ]
  },
  {
   "cell_type": "code",
   "execution_count": 2,
   "metadata": {},
   "outputs": [
    {
     "data": {
      "text/html": [
       "<div>\n",
       "<style scoped>\n",
       "    .dataframe tbody tr th:only-of-type {\n",
       "        vertical-align: middle;\n",
       "    }\n",
       "\n",
       "    .dataframe tbody tr th {\n",
       "        vertical-align: top;\n",
       "    }\n",
       "\n",
       "    .dataframe thead th {\n",
       "        text-align: right;\n",
       "    }\n",
       "</style>\n",
       "<table border=\"1\" class=\"dataframe\">\n",
       "  <thead>\n",
       "    <tr style=\"text-align: right;\">\n",
       "      <th></th>\n",
       "      <th>rating</th>\n",
       "      <th>review</th>\n",
       "      <th>translation</th>\n",
       "    </tr>\n",
       "  </thead>\n",
       "  <tbody>\n",
       "    <tr>\n",
       "      <th>0</th>\n",
       "      <td>0</td>\n",
       "      <td>Si vous cherchez du cinéma abrutissant à tous ...</td>\n",
       "      <td>If you are looking for stupid cinema on all fl...</td>\n",
       "    </tr>\n",
       "    <tr>\n",
       "      <th>1</th>\n",
       "      <td>0</td>\n",
       "      <td>Profitant de son passage télé,je l'ai regardé ...</td>\n",
       "      <td>Taking advantage of his TV passage, I looked a...</td>\n",
       "    </tr>\n",
       "    <tr>\n",
       "      <th>2</th>\n",
       "      <td>0</td>\n",
       "      <td>A mourir d'ennui. le vrai ennui, c'est que j'a...</td>\n",
       "      <td>To die Dennui.The real boredom, it is that I w...</td>\n",
       "    </tr>\n",
       "    <tr>\n",
       "      <th>3</th>\n",
       "      <td>0</td>\n",
       "      <td>Opération arctique ne se regarde que pour ses ...</td>\n",
       "      <td>Arctic operation is only looked for for its la...</td>\n",
       "    </tr>\n",
       "    <tr>\n",
       "      <th>4</th>\n",
       "      <td>0</td>\n",
       "      <td>Je déconseille ce film qui est ennuyant et dép...</td>\n",
       "      <td>I do not recommend this movie that is boring a...</td>\n",
       "    </tr>\n",
       "    <tr>\n",
       "      <th>...</th>\n",
       "      <td>...</td>\n",
       "      <td>...</td>\n",
       "      <td>...</td>\n",
       "    </tr>\n",
       "    <tr>\n",
       "      <th>159995</th>\n",
       "      <td>1</td>\n",
       "      <td>Aussi kitsch et jubilatoire que \"Supervixen\" e...</td>\n",
       "      <td>Also kitsch and jubilant that Supervixen and M...</td>\n",
       "    </tr>\n",
       "    <tr>\n",
       "      <th>159996</th>\n",
       "      <td>1</td>\n",
       "      <td>Un film rempli d'un charme terrible que j'aura...</td>\n",
       "      <td>A film filled with a terrible charm that shoul...</td>\n",
       "    </tr>\n",
       "    <tr>\n",
       "      <th>159997</th>\n",
       "      <td>1</td>\n",
       "      <td>un thriller fantastique erotique, sur le thème...</td>\n",
       "      <td>A fantastic erotic thriller, on the theme of t...</td>\n",
       "    </tr>\n",
       "    <tr>\n",
       "      <th>159998</th>\n",
       "      <td>1</td>\n",
       "      <td>Très bon film réaliste au jeu avec de bon effe...</td>\n",
       "      <td>Very good realistic movie in the game with goo...</td>\n",
       "    </tr>\n",
       "    <tr>\n",
       "      <th>159999</th>\n",
       "      <td>1</td>\n",
       "      <td>très film j'ai grandis avec ce film que de sou...</td>\n",
       "      <td>very movie I grew up with this movie than reme...</td>\n",
       "    </tr>\n",
       "  </tbody>\n",
       "</table>\n",
       "<p>160000 rows × 3 columns</p>\n",
       "</div>"
      ],
      "text/plain": [
       "        rating                                             review  \\\n",
       "0            0  Si vous cherchez du cinéma abrutissant à tous ...   \n",
       "1            0  Profitant de son passage télé,je l'ai regardé ...   \n",
       "2            0  A mourir d'ennui. le vrai ennui, c'est que j'a...   \n",
       "3            0  Opération arctique ne se regarde que pour ses ...   \n",
       "4            0  Je déconseille ce film qui est ennuyant et dép...   \n",
       "...        ...                                                ...   \n",
       "159995       1  Aussi kitsch et jubilatoire que \"Supervixen\" e...   \n",
       "159996       1  Un film rempli d'un charme terrible que j'aura...   \n",
       "159997       1  un thriller fantastique erotique, sur le thème...   \n",
       "159998       1  Très bon film réaliste au jeu avec de bon effe...   \n",
       "159999       1  très film j'ai grandis avec ce film que de sou...   \n",
       "\n",
       "                                              translation  \n",
       "0       If you are looking for stupid cinema on all fl...  \n",
       "1       Taking advantage of his TV passage, I looked a...  \n",
       "2       To die Dennui.The real boredom, it is that I w...  \n",
       "3       Arctic operation is only looked for for its la...  \n",
       "4       I do not recommend this movie that is boring a...  \n",
       "...                                                   ...  \n",
       "159995  Also kitsch and jubilant that Supervixen and M...  \n",
       "159996  A film filled with a terrible charm that shoul...  \n",
       "159997  A fantastic erotic thriller, on the theme of t...  \n",
       "159998  Very good realistic movie in the game with goo...  \n",
       "159999  very movie I grew up with this movie than reme...  \n",
       "\n",
       "[160000 rows x 3 columns]"
      ]
     },
     "metadata": {},
     "output_type": "display_data"
    }
   ],
   "source": [
    "df = pd.read_csv(\"french_to_english_movies.csv\", sep=\";\")\n",
    "\n",
    "display(df)"
   ]
  },
  {
   "cell_type": "markdown",
   "metadata": {},
   "source": [
    "To perform our analysis we will divide our table into two sub-tables: one for comments without emotions and one for those with. We will then study the proportion of word differences between the languages ​​in each of the tables and compare the results.\n",
    "\n",
    "it is important to compare our results from the two sub-tables to focus only on the difference in expressions that concern feelings. It is known that French is a language that generally uses more words than English. We will therefore, using the table without emotions, define our \"lambda\" difference, then compare it to the difference between messages with feelings."
   ]
  },
  {
   "cell_type": "markdown",
   "metadata": {},
   "source": [
    "### 2.3 Data modelling"
   ]
  },
  {
   "cell_type": "markdown",
   "metadata": {},
   "source": [
    "So I separate my table into two sub-tables. The first for comments without emotion (rating = 0) and the second for those with (rating = 1). I also display the number of rows in each of my subtables to make sure they are roughly equal."
   ]
  },
  {
   "cell_type": "code",
   "execution_count": 3,
   "metadata": {},
   "outputs": [
    {
     "data": {
      "text/html": [
       "<div>\n",
       "<style scoped>\n",
       "    .dataframe tbody tr th:only-of-type {\n",
       "        vertical-align: middle;\n",
       "    }\n",
       "\n",
       "    .dataframe tbody tr th {\n",
       "        vertical-align: top;\n",
       "    }\n",
       "\n",
       "    .dataframe thead th {\n",
       "        text-align: right;\n",
       "    }\n",
       "</style>\n",
       "<table border=\"1\" class=\"dataframe\">\n",
       "  <thead>\n",
       "    <tr style=\"text-align: right;\">\n",
       "      <th></th>\n",
       "      <th>rating</th>\n",
       "      <th>review</th>\n",
       "      <th>translation</th>\n",
       "    </tr>\n",
       "  </thead>\n",
       "  <tbody>\n",
       "    <tr>\n",
       "      <th>0</th>\n",
       "      <td>0</td>\n",
       "      <td>Si vous cherchez du cinéma abrutissant à tous ...</td>\n",
       "      <td>If you are looking for stupid cinema on all fl...</td>\n",
       "    </tr>\n",
       "    <tr>\n",
       "      <th>1</th>\n",
       "      <td>0</td>\n",
       "      <td>Profitant de son passage télé,je l'ai regardé ...</td>\n",
       "      <td>Taking advantage of his TV passage, I looked a...</td>\n",
       "    </tr>\n",
       "    <tr>\n",
       "      <th>2</th>\n",
       "      <td>0</td>\n",
       "      <td>A mourir d'ennui. le vrai ennui, c'est que j'a...</td>\n",
       "      <td>To die Dennui.The real boredom, it is that I w...</td>\n",
       "    </tr>\n",
       "    <tr>\n",
       "      <th>3</th>\n",
       "      <td>0</td>\n",
       "      <td>Opération arctique ne se regarde que pour ses ...</td>\n",
       "      <td>Arctic operation is only looked for for its la...</td>\n",
       "    </tr>\n",
       "    <tr>\n",
       "      <th>4</th>\n",
       "      <td>0</td>\n",
       "      <td>Je déconseille ce film qui est ennuyant et dép...</td>\n",
       "      <td>I do not recommend this movie that is boring a...</td>\n",
       "    </tr>\n",
       "    <tr>\n",
       "      <th>...</th>\n",
       "      <td>...</td>\n",
       "      <td>...</td>\n",
       "      <td>...</td>\n",
       "    </tr>\n",
       "    <tr>\n",
       "      <th>79408</th>\n",
       "      <td>0</td>\n",
       "      <td>Dangerous People manque un peu de tout : d'ori...</td>\n",
       "      <td>Dangerous People is missing a little bit of al...</td>\n",
       "    </tr>\n",
       "    <tr>\n",
       "      <th>79409</th>\n",
       "      <td>0</td>\n",
       "      <td>Une comédie décalé a l'humour gras et lourd , ...</td>\n",
       "      <td>A staggering comedy with lhum fat and heavy, i...</td>\n",
       "    </tr>\n",
       "    <tr>\n",
       "      <th>79410</th>\n",
       "      <td>0</td>\n",
       "      <td>Le film contient beaucoup de mauvais point la ...</td>\n",
       "      <td>The film contains a lot of bad point the backg...</td>\n",
       "    </tr>\n",
       "    <tr>\n",
       "      <th>79411</th>\n",
       "      <td>0</td>\n",
       "      <td>Ce film est encore plus mauvais que ce que je ...</td>\n",
       "      <td>This movie is even worse than I feared by watc...</td>\n",
       "    </tr>\n",
       "    <tr>\n",
       "      <th>79412</th>\n",
       "      <td>0</td>\n",
       "      <td>Film vraiment très lent,très plat et sans inté...</td>\n",
       "      <td>Film really very slow, very flat and without i...</td>\n",
       "    </tr>\n",
       "  </tbody>\n",
       "</table>\n",
       "<p>79413 rows × 3 columns</p>\n",
       "</div>"
      ],
      "text/plain": [
       "       rating                                             review  \\\n",
       "0           0  Si vous cherchez du cinéma abrutissant à tous ...   \n",
       "1           0  Profitant de son passage télé,je l'ai regardé ...   \n",
       "2           0  A mourir d'ennui. le vrai ennui, c'est que j'a...   \n",
       "3           0  Opération arctique ne se regarde que pour ses ...   \n",
       "4           0  Je déconseille ce film qui est ennuyant et dép...   \n",
       "...       ...                                                ...   \n",
       "79408       0  Dangerous People manque un peu de tout : d'ori...   \n",
       "79409       0  Une comédie décalé a l'humour gras et lourd , ...   \n",
       "79410       0  Le film contient beaucoup de mauvais point la ...   \n",
       "79411       0  Ce film est encore plus mauvais que ce que je ...   \n",
       "79412       0  Film vraiment très lent,très plat et sans inté...   \n",
       "\n",
       "                                             translation  \n",
       "0      If you are looking for stupid cinema on all fl...  \n",
       "1      Taking advantage of his TV passage, I looked a...  \n",
       "2      To die Dennui.The real boredom, it is that I w...  \n",
       "3      Arctic operation is only looked for for its la...  \n",
       "4      I do not recommend this movie that is boring a...  \n",
       "...                                                  ...  \n",
       "79408  Dangerous People is missing a little bit of al...  \n",
       "79409  A staggering comedy with lhum fat and heavy, i...  \n",
       "79410  The film contains a lot of bad point the backg...  \n",
       "79411  This movie is even worse than I feared by watc...  \n",
       "79412  Film really very slow, very flat and without i...  \n",
       "\n",
       "[79413 rows x 3 columns]"
      ]
     },
     "metadata": {},
     "output_type": "display_data"
    },
    {
     "data": {
      "text/html": [
       "<div>\n",
       "<style scoped>\n",
       "    .dataframe tbody tr th:only-of-type {\n",
       "        vertical-align: middle;\n",
       "    }\n",
       "\n",
       "    .dataframe tbody tr th {\n",
       "        vertical-align: top;\n",
       "    }\n",
       "\n",
       "    .dataframe thead th {\n",
       "        text-align: right;\n",
       "    }\n",
       "</style>\n",
       "<table border=\"1\" class=\"dataframe\">\n",
       "  <thead>\n",
       "    <tr style=\"text-align: right;\">\n",
       "      <th></th>\n",
       "      <th>rating</th>\n",
       "      <th>review</th>\n",
       "      <th>translation</th>\n",
       "    </tr>\n",
       "  </thead>\n",
       "  <tbody>\n",
       "    <tr>\n",
       "      <th>79413</th>\n",
       "      <td>1</td>\n",
       "      <td>Un film au casting de choix, un scénario origi...</td>\n",
       "      <td>A movie at the casting cast, an original scena...</td>\n",
       "    </tr>\n",
       "    <tr>\n",
       "      <th>79414</th>\n",
       "      <td>1</td>\n",
       "      <td>Un documentaire sur Jiro, un personnage peu co...</td>\n",
       "      <td>A documentary on Jiro, an unusual character wh...</td>\n",
       "    </tr>\n",
       "    <tr>\n",
       "      <th>79415</th>\n",
       "      <td>1</td>\n",
       "      <td>Faire un documentaire, c'était trop simple pou...</td>\n",
       "      <td>Make a documentary, it was too simple for Wim ...</td>\n",
       "    </tr>\n",
       "    <tr>\n",
       "      <th>79416</th>\n",
       "      <td>1</td>\n",
       "      <td>Très beau film sur un musicien finalement peu ...</td>\n",
       "      <td>Very beautiful movie on a musician finally lit...</td>\n",
       "    </tr>\n",
       "    <tr>\n",
       "      <th>79417</th>\n",
       "      <td>1</td>\n",
       "      <td>Le chef d'œuvre de Lubitsch qui fait preuve d'...</td>\n",
       "      <td>The chief of Lubitsch who demonstrates a great...</td>\n",
       "    </tr>\n",
       "    <tr>\n",
       "      <th>...</th>\n",
       "      <td>...</td>\n",
       "      <td>...</td>\n",
       "      <td>...</td>\n",
       "    </tr>\n",
       "    <tr>\n",
       "      <th>159995</th>\n",
       "      <td>1</td>\n",
       "      <td>Aussi kitsch et jubilatoire que \"Supervixen\" e...</td>\n",
       "      <td>Also kitsch and jubilant that Supervixen and M...</td>\n",
       "    </tr>\n",
       "    <tr>\n",
       "      <th>159996</th>\n",
       "      <td>1</td>\n",
       "      <td>Un film rempli d'un charme terrible que j'aura...</td>\n",
       "      <td>A film filled with a terrible charm that shoul...</td>\n",
       "    </tr>\n",
       "    <tr>\n",
       "      <th>159997</th>\n",
       "      <td>1</td>\n",
       "      <td>un thriller fantastique erotique, sur le thème...</td>\n",
       "      <td>A fantastic erotic thriller, on the theme of t...</td>\n",
       "    </tr>\n",
       "    <tr>\n",
       "      <th>159998</th>\n",
       "      <td>1</td>\n",
       "      <td>Très bon film réaliste au jeu avec de bon effe...</td>\n",
       "      <td>Very good realistic movie in the game with goo...</td>\n",
       "    </tr>\n",
       "    <tr>\n",
       "      <th>159999</th>\n",
       "      <td>1</td>\n",
       "      <td>très film j'ai grandis avec ce film que de sou...</td>\n",
       "      <td>very movie I grew up with this movie than reme...</td>\n",
       "    </tr>\n",
       "  </tbody>\n",
       "</table>\n",
       "<p>80587 rows × 3 columns</p>\n",
       "</div>"
      ],
      "text/plain": [
       "        rating                                             review  \\\n",
       "79413        1  Un film au casting de choix, un scénario origi...   \n",
       "79414        1  Un documentaire sur Jiro, un personnage peu co...   \n",
       "79415        1  Faire un documentaire, c'était trop simple pou...   \n",
       "79416        1  Très beau film sur un musicien finalement peu ...   \n",
       "79417        1  Le chef d'œuvre de Lubitsch qui fait preuve d'...   \n",
       "...        ...                                                ...   \n",
       "159995       1  Aussi kitsch et jubilatoire que \"Supervixen\" e...   \n",
       "159996       1  Un film rempli d'un charme terrible que j'aura...   \n",
       "159997       1  un thriller fantastique erotique, sur le thème...   \n",
       "159998       1  Très bon film réaliste au jeu avec de bon effe...   \n",
       "159999       1  très film j'ai grandis avec ce film que de sou...   \n",
       "\n",
       "                                              translation  \n",
       "79413   A movie at the casting cast, an original scena...  \n",
       "79414   A documentary on Jiro, an unusual character wh...  \n",
       "79415   Make a documentary, it was too simple for Wim ...  \n",
       "79416   Very beautiful movie on a musician finally lit...  \n",
       "79417   The chief of Lubitsch who demonstrates a great...  \n",
       "...                                                   ...  \n",
       "159995  Also kitsch and jubilant that Supervixen and M...  \n",
       "159996  A film filled with a terrible charm that shoul...  \n",
       "159997  A fantastic erotic thriller, on the theme of t...  \n",
       "159998  Very good realistic movie in the game with goo...  \n",
       "159999  very movie I grew up with this movie than reme...  \n",
       "\n",
       "[80587 rows x 3 columns]"
      ]
     },
     "metadata": {},
     "output_type": "display_data"
    },
    {
     "name": "stdout",
     "output_type": "stream",
     "text": [
      "Number of lines where rating = 0 : 79413\n",
      "Number of lines where rating = 1 : 80587\n"
     ]
    }
   ],
   "source": [
    "# We separate the data into two sub-tables\n",
    "df_rating_0 = df[df['rating'] == 0]  # Subtable where rating = 0\n",
    "df_rating_1 = df[df['rating'] == 1]  # Subtable where rating = 1\n",
    "\n",
    "\n",
    "# We display the two sub-tables\n",
    "display(df_rating_0)\n",
    "display(df_rating_1)\n",
    "\n",
    "# We size the sub-arrays to verify that both are approximately the same size\n",
    "print(f\"Number of lines where rating = 0 : {len(df_rating_0)}\")\n",
    "print(f\"Number of lines where rating = 1 : {len(df_rating_1)}\")\n"
   ]
  },
  {
   "cell_type": "markdown",
   "metadata": {},
   "source": [
    "## 3. Analysis"
   ]
  },
  {
   "cell_type": "markdown",
   "metadata": {},
   "source": [
    "### 3.1 unemotional comments"
   ]
  },
  {
   "cell_type": "markdown",
   "metadata": {},
   "source": [
    "We display the tables that interest us for this part."
   ]
  },
  {
   "cell_type": "code",
   "execution_count": 4,
   "metadata": {},
   "outputs": [
    {
     "data": {
      "text/html": [
       "<div>\n",
       "<style scoped>\n",
       "    .dataframe tbody tr th:only-of-type {\n",
       "        vertical-align: middle;\n",
       "    }\n",
       "\n",
       "    .dataframe tbody tr th {\n",
       "        vertical-align: top;\n",
       "    }\n",
       "\n",
       "    .dataframe thead th {\n",
       "        text-align: right;\n",
       "    }\n",
       "</style>\n",
       "<table border=\"1\" class=\"dataframe\">\n",
       "  <thead>\n",
       "    <tr style=\"text-align: right;\">\n",
       "      <th></th>\n",
       "      <th>rating</th>\n",
       "      <th>review</th>\n",
       "      <th>translation</th>\n",
       "    </tr>\n",
       "  </thead>\n",
       "  <tbody>\n",
       "    <tr>\n",
       "      <th>0</th>\n",
       "      <td>0</td>\n",
       "      <td>Si vous cherchez du cinéma abrutissant à tous ...</td>\n",
       "      <td>If you are looking for stupid cinema on all fl...</td>\n",
       "    </tr>\n",
       "    <tr>\n",
       "      <th>1</th>\n",
       "      <td>0</td>\n",
       "      <td>Profitant de son passage télé,je l'ai regardé ...</td>\n",
       "      <td>Taking advantage of his TV passage, I looked a...</td>\n",
       "    </tr>\n",
       "    <tr>\n",
       "      <th>2</th>\n",
       "      <td>0</td>\n",
       "      <td>A mourir d'ennui. le vrai ennui, c'est que j'a...</td>\n",
       "      <td>To die Dennui.The real boredom, it is that I w...</td>\n",
       "    </tr>\n",
       "    <tr>\n",
       "      <th>3</th>\n",
       "      <td>0</td>\n",
       "      <td>Opération arctique ne se regarde que pour ses ...</td>\n",
       "      <td>Arctic operation is only looked for for its la...</td>\n",
       "    </tr>\n",
       "    <tr>\n",
       "      <th>4</th>\n",
       "      <td>0</td>\n",
       "      <td>Je déconseille ce film qui est ennuyant et dép...</td>\n",
       "      <td>I do not recommend this movie that is boring a...</td>\n",
       "    </tr>\n",
       "    <tr>\n",
       "      <th>...</th>\n",
       "      <td>...</td>\n",
       "      <td>...</td>\n",
       "      <td>...</td>\n",
       "    </tr>\n",
       "    <tr>\n",
       "      <th>79408</th>\n",
       "      <td>0</td>\n",
       "      <td>Dangerous People manque un peu de tout : d'ori...</td>\n",
       "      <td>Dangerous People is missing a little bit of al...</td>\n",
       "    </tr>\n",
       "    <tr>\n",
       "      <th>79409</th>\n",
       "      <td>0</td>\n",
       "      <td>Une comédie décalé a l'humour gras et lourd , ...</td>\n",
       "      <td>A staggering comedy with lhum fat and heavy, i...</td>\n",
       "    </tr>\n",
       "    <tr>\n",
       "      <th>79410</th>\n",
       "      <td>0</td>\n",
       "      <td>Le film contient beaucoup de mauvais point la ...</td>\n",
       "      <td>The film contains a lot of bad point the backg...</td>\n",
       "    </tr>\n",
       "    <tr>\n",
       "      <th>79411</th>\n",
       "      <td>0</td>\n",
       "      <td>Ce film est encore plus mauvais que ce que je ...</td>\n",
       "      <td>This movie is even worse than I feared by watc...</td>\n",
       "    </tr>\n",
       "    <tr>\n",
       "      <th>79412</th>\n",
       "      <td>0</td>\n",
       "      <td>Film vraiment très lent,très plat et sans inté...</td>\n",
       "      <td>Film really very slow, very flat and without i...</td>\n",
       "    </tr>\n",
       "  </tbody>\n",
       "</table>\n",
       "<p>79413 rows × 3 columns</p>\n",
       "</div>"
      ],
      "text/plain": [
       "       rating                                             review  \\\n",
       "0           0  Si vous cherchez du cinéma abrutissant à tous ...   \n",
       "1           0  Profitant de son passage télé,je l'ai regardé ...   \n",
       "2           0  A mourir d'ennui. le vrai ennui, c'est que j'a...   \n",
       "3           0  Opération arctique ne se regarde que pour ses ...   \n",
       "4           0  Je déconseille ce film qui est ennuyant et dép...   \n",
       "...       ...                                                ...   \n",
       "79408       0  Dangerous People manque un peu de tout : d'ori...   \n",
       "79409       0  Une comédie décalé a l'humour gras et lourd , ...   \n",
       "79410       0  Le film contient beaucoup de mauvais point la ...   \n",
       "79411       0  Ce film est encore plus mauvais que ce que je ...   \n",
       "79412       0  Film vraiment très lent,très plat et sans inté...   \n",
       "\n",
       "                                             translation  \n",
       "0      If you are looking for stupid cinema on all fl...  \n",
       "1      Taking advantage of his TV passage, I looked a...  \n",
       "2      To die Dennui.The real boredom, it is that I w...  \n",
       "3      Arctic operation is only looked for for its la...  \n",
       "4      I do not recommend this movie that is boring a...  \n",
       "...                                                  ...  \n",
       "79408  Dangerous People is missing a little bit of al...  \n",
       "79409  A staggering comedy with lhum fat and heavy, i...  \n",
       "79410  The film contains a lot of bad point the backg...  \n",
       "79411  This movie is even worse than I feared by watc...  \n",
       "79412  Film really very slow, very flat and without i...  \n",
       "\n",
       "[79413 rows x 3 columns]"
      ]
     },
     "metadata": {},
     "output_type": "display_data"
    }
   ],
   "source": [
    "display(df_rating_0)"
   ]
  },
  {
   "cell_type": "markdown",
   "metadata": {},
   "source": [
    "We display the distribution of English and French comments according to their number of words for visual reference."
   ]
  },
  {
   "cell_type": "code",
   "execution_count": 5,
   "metadata": {},
   "outputs": [
    {
     "name": "stderr",
     "output_type": "stream",
     "text": [
      "/var/folders/f8/7nq4mxy56ljfvspc_ygybf3c0000gn/T/ipykernel_34465/4130552678.py:2: SettingWithCopyWarning: \n",
      "A value is trying to be set on a copy of a slice from a DataFrame.\n",
      "Try using .loc[row_indexer,col_indexer] = value instead\n",
      "\n",
      "See the caveats in the documentation: https://pandas.pydata.org/pandas-docs/stable/user_guide/indexing.html#returning-a-view-versus-a-copy\n",
      "  df_rating_0['nb_mots_fr'] = df_rating_0['review'].str.split().str.len()\n",
      "/var/folders/f8/7nq4mxy56ljfvspc_ygybf3c0000gn/T/ipykernel_34465/4130552678.py:3: SettingWithCopyWarning: \n",
      "A value is trying to be set on a copy of a slice from a DataFrame.\n",
      "Try using .loc[row_indexer,col_indexer] = value instead\n",
      "\n",
      "See the caveats in the documentation: https://pandas.pydata.org/pandas-docs/stable/user_guide/indexing.html#returning-a-view-versus-a-copy\n",
      "  df_rating_0['nb_mots_en'] = df_rating_0['translation'].str.split().str.len()\n"
     ]
    },
    {
     "data": {
      "image/png": "[encoded data removed]",
      "text/plain": [
       "<Figure size 640x480 with 1 Axes>"
      ]
     },
     "metadata": {},
     "output_type": "display_data"
    }
   ],
   "source": [
    "# We calculate the number of words in each comment of each line (French and English)\n",
    "df_rating_0['nb_mots_fr'] = df_rating_0['review'].str.split().str.len()\n",
    "df_rating_0['nb_mots_en'] = df_rating_0['translation'].str.split().str.len()\n",
    "\n",
    "\n",
    "bins = 20  # On crée 20 groupes de colonnes sur l'histogramme pour ne pas le surcharger\n",
    "bin_edges = np.histogram_bin_edges(df_rating_0[['nb_mots_fr', 'nb_mots_en']], bins=bins)\n",
    "\n",
    "# We calculate the histograms for the two distributions\n",
    "hist_fr, _ = np.histogram(df_rating_0['nb_mots_fr'], bins=bin_edges)\n",
    "hist_en, _ = np.histogram(df_rating_0['nb_mots_en'], bins=bin_edges)\n",
    "\n",
    "bar_width = (bin_edges[1] - bin_edges[0]) * 0.4  # We define the visual and the proportion of the sizes of our columns\n",
    "x_fr = bin_edges[:-1] - bar_width / 2  # Position of the French bars\n",
    "x_en = bin_edges[:-1] + bar_width / 2  # Position of the English bars\n",
    "\n",
    "# We draw the bars side by side\n",
    "plt.bar(x_fr, hist_fr, width=bar_width, alpha=0.7, label=\"Français\", color='blue')\n",
    "plt.bar(x_en, hist_en, width=bar_width, alpha=0.7, label=\"Anglais\", color='orange')\n",
    "\n",
    "# We add the labels, the title and the legend\n",
    "plt.xlabel(\"Nombre de mots\")\n",
    "plt.ylabel(\"Fréquence\")\n",
    "plt.title(\"Distribution des longueurs des commentaires (Français vs Anglais)\")\n",
    "plt.legend()\n",
    "\n",
    "# We display the graph\n",
    "plt.show()\n"
   ]
  },
  {
   "cell_type": "markdown",
   "metadata": {},
   "source": [
    "We then want to calculate the percentage difference in the number of words between the French column and the English column."
   ]
  },
  {
   "cell_type": "code",
   "execution_count": 6,
   "metadata": {},
   "outputs": [
    {
     "name": "stdout",
     "output_type": "stream",
     "text": [
      "Average percentage increase : 8.59%\n",
      "95% confidence interval: [8.43%, 8.75%]\n"
     ]
    }
   ],
   "source": [
    "df_rating_0 = df_rating_0.copy() # We create a copy of our table so as not to modify the original\n",
    "\n",
    "# We calculate the percentage difference in the number of words for each line\n",
    "df_rating_0['pourcentage_augmentation'] = (\n",
    "    (df_rating_0['nb_mots_fr'] - df_rating_0['nb_mots_en']) / df_rating_0['nb_mots_en']\n",
    ") * 100\n",
    "\n",
    "# We calculate the average of all these percentages\n",
    "mean = df_rating_0['pourcentage_augmentation'].mean()\n",
    "\n",
    "# We calculate the standard error of the mean which measures the probable variation of the mean if we repeat the sampling\n",
    "std_err = stats.sem(df_rating_0['pourcentage_augmentation']) \n",
    "\n",
    "# We calculate the interval where the true mean normally lies with a confidence level of 95%\n",
    "conf_int = stats.t.interval(\n",
    "    confidence=0.95,  # We set the confidence level to 95%\n",
    "    df=len(df_rating_0['pourcentage_augmentation']) - 1,  # We define the degree of freedom of our interval\n",
    "    loc=mean,  # We use the calculated mean as the center of our interval\n",
    "    scale=std_err  # We use the calculated standard error to define the width of our interval\n",
    ")\n",
    "\n",
    "# We display the results\n",
    "print(f\"Average percentage increase : {mean:.2f}%\")\n",
    "print(f\"95% confidence interval: [{conf_int[0]:.2f}%, {conf_int[1]:.2f}%]\")"
   ]
  },
  {
   "cell_type": "markdown",
   "metadata": {},
   "source": [
    "So we have the result that French comments without emotions are 8.59% longer. But we now need to check whether this result is significant or not."
   ]
  },
  {
   "cell_type": "markdown",
   "metadata": {},
   "source": [
    "We then carry out a significance test which, thanks to the test statistic and the p-value, will tell us whether our result is significant or not."
   ]
  },
  {
   "cell_type": "code",
   "execution_count": 7,
   "metadata": {},
   "outputs": [
    {
     "name": "stdout",
     "output_type": "stream",
     "text": [
      "Statistique de test : 244.53\n",
      "p-value : 0.00000\n",
      "The difference in length is significant (p < 0.05).\n"
     ]
    }
   ],
   "source": [
    "# We perform a paired t-test, that is to say that we consider our input variables (here columns 2 and 3 of our table) as being linked\n",
    "t_stat, p_value = ttest_rel(df_rating_0['nb_mots_fr'], df_rating_0['nb_mots_en'])\n",
    "\n",
    "print(f\"Statistique de test : {t_stat:.2f}\") # Calculates and returns the value of the two-variable statistic\n",
    "print(f\"p-value : {p_value:.5f}\")# We calculate and return the value of our p-value\n",
    "\n",
    "# We return an interpretation based on the value of our p-value\n",
    "if p_value < 0.05:\n",
    "    print(\"The difference in length is significant (p < 0.05).\")\n",
    "else:\n",
    "    print(\"The difference in length is not significant (p >= 0.05).\")\n"
   ]
  },
  {
   "cell_type": "markdown",
   "metadata": {},
   "source": [
    "So we can conclude this subsection by saying that on average, a comment without emotions in French will be longer by 8.59% of words (with an error interval of 0.16%). This will be our reference difference. We will now compare it to the difference between comments with emotions."
   ]
  },
  {
   "cell_type": "markdown",
   "metadata": {},
   "source": [
    "### 3.2 Comments with emotions"
   ]
  },
  {
   "cell_type": "markdown",
   "metadata": {},
   "source": [
    "We display the tables that interest us for this part."
   ]
  },
  {
   "cell_type": "code",
   "execution_count": 8,
   "metadata": {},
   "outputs": [
    {
     "data": {
      "text/html": [
       "<div>\n",
       "<style scoped>\n",
       "    .dataframe tbody tr th:only-of-type {\n",
       "        vertical-align: middle;\n",
       "    }\n",
       "\n",
       "    .dataframe tbody tr th {\n",
       "        vertical-align: top;\n",
       "    }\n",
       "\n",
       "    .dataframe thead th {\n",
       "        text-align: right;\n",
       "    }\n",
       "</style>\n",
       "<table border=\"1\" class=\"dataframe\">\n",
       "  <thead>\n",
       "    <tr style=\"text-align: right;\">\n",
       "      <th></th>\n",
       "      <th>rating</th>\n",
       "      <th>review</th>\n",
       "      <th>translation</th>\n",
       "    </tr>\n",
       "  </thead>\n",
       "  <tbody>\n",
       "    <tr>\n",
       "      <th>79413</th>\n",
       "      <td>1</td>\n",
       "      <td>Un film au casting de choix, un scénario origi...</td>\n",
       "      <td>A movie at the casting cast, an original scena...</td>\n",
       "    </tr>\n",
       "    <tr>\n",
       "      <th>79414</th>\n",
       "      <td>1</td>\n",
       "      <td>Un documentaire sur Jiro, un personnage peu co...</td>\n",
       "      <td>A documentary on Jiro, an unusual character wh...</td>\n",
       "    </tr>\n",
       "    <tr>\n",
       "      <th>79415</th>\n",
       "      <td>1</td>\n",
       "      <td>Faire un documentaire, c'était trop simple pou...</td>\n",
       "      <td>Make a documentary, it was too simple for Wim ...</td>\n",
       "    </tr>\n",
       "    <tr>\n",
       "      <th>79416</th>\n",
       "      <td>1</td>\n",
       "      <td>Très beau film sur un musicien finalement peu ...</td>\n",
       "      <td>Very beautiful movie on a musician finally lit...</td>\n",
       "    </tr>\n",
       "    <tr>\n",
       "      <th>79417</th>\n",
       "      <td>1</td>\n",
       "      <td>Le chef d'œuvre de Lubitsch qui fait preuve d'...</td>\n",
       "      <td>The chief of Lubitsch who demonstrates a great...</td>\n",
       "    </tr>\n",
       "    <tr>\n",
       "      <th>...</th>\n",
       "      <td>...</td>\n",
       "      <td>...</td>\n",
       "      <td>...</td>\n",
       "    </tr>\n",
       "    <tr>\n",
       "      <th>159995</th>\n",
       "      <td>1</td>\n",
       "      <td>Aussi kitsch et jubilatoire que \"Supervixen\" e...</td>\n",
       "      <td>Also kitsch and jubilant that Supervixen and M...</td>\n",
       "    </tr>\n",
       "    <tr>\n",
       "      <th>159996</th>\n",
       "      <td>1</td>\n",
       "      <td>Un film rempli d'un charme terrible que j'aura...</td>\n",
       "      <td>A film filled with a terrible charm that shoul...</td>\n",
       "    </tr>\n",
       "    <tr>\n",
       "      <th>159997</th>\n",
       "      <td>1</td>\n",
       "      <td>un thriller fantastique erotique, sur le thème...</td>\n",
       "      <td>A fantastic erotic thriller, on the theme of t...</td>\n",
       "    </tr>\n",
       "    <tr>\n",
       "      <th>159998</th>\n",
       "      <td>1</td>\n",
       "      <td>Très bon film réaliste au jeu avec de bon effe...</td>\n",
       "      <td>Very good realistic movie in the game with goo...</td>\n",
       "    </tr>\n",
       "    <tr>\n",
       "      <th>159999</th>\n",
       "      <td>1</td>\n",
       "      <td>très film j'ai grandis avec ce film que de sou...</td>\n",
       "      <td>very movie I grew up with this movie than reme...</td>\n",
       "    </tr>\n",
       "  </tbody>\n",
       "</table>\n",
       "<p>80587 rows × 3 columns</p>\n",
       "</div>"
      ],
      "text/plain": [
       "        rating                                             review  \\\n",
       "79413        1  Un film au casting de choix, un scénario origi...   \n",
       "79414        1  Un documentaire sur Jiro, un personnage peu co...   \n",
       "79415        1  Faire un documentaire, c'était trop simple pou...   \n",
       "79416        1  Très beau film sur un musicien finalement peu ...   \n",
       "79417        1  Le chef d'œuvre de Lubitsch qui fait preuve d'...   \n",
       "...        ...                                                ...   \n",
       "159995       1  Aussi kitsch et jubilatoire que \"Supervixen\" e...   \n",
       "159996       1  Un film rempli d'un charme terrible que j'aura...   \n",
       "159997       1  un thriller fantastique erotique, sur le thème...   \n",
       "159998       1  Très bon film réaliste au jeu avec de bon effe...   \n",
       "159999       1  très film j'ai grandis avec ce film que de sou...   \n",
       "\n",
       "                                              translation  \n",
       "79413   A movie at the casting cast, an original scena...  \n",
       "79414   A documentary on Jiro, an unusual character wh...  \n",
       "79415   Make a documentary, it was too simple for Wim ...  \n",
       "79416   Very beautiful movie on a musician finally lit...  \n",
       "79417   The chief of Lubitsch who demonstrates a great...  \n",
       "...                                                   ...  \n",
       "159995  Also kitsch and jubilant that Supervixen and M...  \n",
       "159996  A film filled with a terrible charm that shoul...  \n",
       "159997  A fantastic erotic thriller, on the theme of t...  \n",
       "159998  Very good realistic movie in the game with goo...  \n",
       "159999  very movie I grew up with this movie than reme...  \n",
       "\n",
       "[80587 rows x 3 columns]"
      ]
     },
     "metadata": {},
     "output_type": "display_data"
    }
   ],
   "source": [
    "display(df_rating_1)"
   ]
  },
  {
   "cell_type": "markdown",
   "metadata": {},
   "source": [
    "We display the distribution of English and French comments according to their number of words for visual reference."
   ]
  },
  {
   "cell_type": "code",
   "execution_count": 9,
   "metadata": {},
   "outputs": [
    {
     "name": "stderr",
     "output_type": "stream",
     "text": [
      "/var/folders/f8/7nq4mxy56ljfvspc_ygybf3c0000gn/T/ipykernel_34465/3415826554.py:2: SettingWithCopyWarning: \n",
      "A value is trying to be set on a copy of a slice from a DataFrame.\n",
      "Try using .loc[row_indexer,col_indexer] = value instead\n",
      "\n",
      "See the caveats in the documentation: https://pandas.pydata.org/pandas-docs/stable/user_guide/indexing.html#returning-a-view-versus-a-copy\n",
      "  df_rating_1['nb_mots_fr'] = df_rating_1['review'].str.split().str.len()\n",
      "/var/folders/f8/7nq4mxy56ljfvspc_ygybf3c0000gn/T/ipykernel_34465/3415826554.py:3: SettingWithCopyWarning: \n",
      "A value is trying to be set on a copy of a slice from a DataFrame.\n",
      "Try using .loc[row_indexer,col_indexer] = value instead\n",
      "\n",
      "See the caveats in the documentation: https://pandas.pydata.org/pandas-docs/stable/user_guide/indexing.html#returning-a-view-versus-a-copy\n",
      "  df_rating_1['nb_mots_en'] = df_rating_1['translation'].str.split().str.len()\n"
     ]
    },
    {
     "data": {
      "image/png": "[encoded data removed]",
      "text/plain": [
       "<Figure size 640x480 with 1 Axes>"
      ]
     },
     "metadata": {},
     "output_type": "display_data"
    }
   ],
   "source": [
    "# We calculate the number of words in each comment of each line (French and English)\n",
    "df_rating_1['nb_mots_fr'] = df_rating_1['review'].str.split().str.len()\n",
    "df_rating_1['nb_mots_en'] = df_rating_1['translation'].str.split().str.len()\n",
    "\n",
    "\n",
    "bins = 20  # On crée 20 groupes de colonnes sur l'histogramme pour ne pas le surcharger\n",
    "bin_edges = np.histogram_bin_edges(df_rating_1[['nb_mots_fr', 'nb_mots_en']], bins=bins)\n",
    "\n",
    "# We calculate the histograms for the two distributions\n",
    "hist_fr, _ = np.histogram(df_rating_1['nb_mots_fr'], bins=bin_edges)\n",
    "hist_en, _ = np.histogram(df_rating_1['nb_mots_en'], bins=bin_edges)\n",
    "\n",
    "bar_width = (bin_edges[1] - bin_edges[0]) * 0.4  # We define the visual and the proportion of the sizes of our columns\n",
    "x_fr = bin_edges[:-1] - bar_width / 2  # Position of the French bars\n",
    "x_en = bin_edges[:-1] + bar_width / 2  # Position of the English bars\n",
    "\n",
    "# We draw the bars side by side\n",
    "plt.bar(x_fr, hist_fr, width=bar_width, alpha=0.7, label=\"Français\", color='blue')\n",
    "plt.bar(x_en, hist_en, width=bar_width, alpha=0.7, label=\"Anglais\", color='orange')\n",
    "\n",
    "# We add the labels, the title and the legend\n",
    "plt.xlabel(\"Nombre de mots\")\n",
    "plt.ylabel(\"Fréquence\")\n",
    "plt.title(\"Distribution des longueurs des commentaires (Français vs Anglais)\")\n",
    "plt.legend()\n",
    "\n",
    "# We display the graph\n",
    "plt.show()"
   ]
  },
  {
   "cell_type": "markdown",
   "metadata": {},
   "source": [
    "We then want to calculate the percentage difference in the number of words between the French column and the English column."
   ]
  },
  {
   "cell_type": "code",
   "execution_count": 10,
   "metadata": {},
   "outputs": [
    {
     "name": "stdout",
     "output_type": "stream",
     "text": [
      "Average percentage increase : 9.32%\n",
      "95% confidence interval: [9.24%, 9.40%]\n"
     ]
    }
   ],
   "source": [
    "df_rating_1 = df_rating_1.copy() # We create a copy of our table so as not to modify the original\n",
    "\n",
    "# We calculate the percentage difference in the number of words for each line\n",
    "df_rating_1['pourcentage_augmentation'] = (\n",
    "    (df_rating_1['nb_mots_fr'] - df_rating_1['nb_mots_en']) / df_rating_1['nb_mots_en']\n",
    ") * 100\n",
    "\n",
    "# We calculate the average of all these percentages\n",
    "mean = df_rating_1['pourcentage_augmentation'].mean()\n",
    "\n",
    "# We calculate the standard error of the mean which measures the probable variation of the mean if we repeat the sampling\n",
    "std_err = stats.sem(df_rating_1['pourcentage_augmentation']) \n",
    "\n",
    "# We calculate the interval where the true mean normally lies with a confidence level of 95%\n",
    "conf_int = stats.t.interval(\n",
    "    confidence=0.95,  # We set the confidence level to 95%\n",
    "    df=len(df_rating_1['pourcentage_augmentation']) - 1,  # We define the degree of freedom of our interval\n",
    "    loc=mean,  # We use the calculated mean as the center of our interval\n",
    "    scale=std_err  # We use the calculated standard error to define the width of our interval\n",
    ")\n",
    "\n",
    "# We display the results\n",
    "print(f\"Average percentage increase : {mean:.2f}%\")\n",
    "print(f\"95% confidence interval: [{conf_int[0]:.2f}%, {conf_int[1]:.2f}%]\")"
   ]
  },
  {
   "cell_type": "markdown",
   "metadata": {},
   "source": [
    "We have as a result that French comments with emotion are longer than English ones by 9.32%. We must now check if this result is relevant."
   ]
  },
  {
   "cell_type": "markdown",
   "metadata": {},
   "source": [
    "We then carry out a significance test which, thanks to the test statistic and the p-value, will tell us whether our result is significant or not."
   ]
  },
  {
   "cell_type": "code",
   "execution_count": 11,
   "metadata": {},
   "outputs": [
    {
     "name": "stdout",
     "output_type": "stream",
     "text": [
      "Statistique de test : 262.68\n",
      "p-value : 0.00000\n",
      "The difference in length is significant (p < 0.05).\n"
     ]
    }
   ],
   "source": [
    "# We perform a paired t-test, that is to say that we consider our input variables (here columns 2 and 3 of our table) as being linked\n",
    "t_stat, p_value = ttest_rel(df_rating_1['nb_mots_fr'], df_rating_1['nb_mots_en'])\n",
    "\n",
    "print(f\"Statistique de test : {t_stat:.2f}\") # Calculates and returns the value of the two-variable statistic\n",
    "print(f\"p-value : {p_value:.5f}\")# We calculate and return the value of our p-value\n",
    "\n",
    "# We return an interpretation based on the value of our p-value\n",
    "if p_value < 0.05:\n",
    "    print(\"The difference in length is significant (p < 0.05).\")\n",
    "else:\n",
    "    print(\"The difference in length is not significant (p >= 0.05).\")\n"
   ]
  },
  {
   "cell_type": "markdown",
   "metadata": {},
   "source": [
    "We can conclude this subsection by saying that French comments with emotions are longer than English ones by 9.32% (with an error interval of 0.08%)."
   ]
  },
  {
   "cell_type": "markdown",
   "metadata": {},
   "source": [
    "## 4. Conclusion"
   ]
  },
  {
   "cell_type": "markdown",
   "metadata": {},
   "source": [
    "So we have a \"lambda\" difference in the number of words between French and English equal to 8.59%. But when we study comments with emotions, this percentage increases to 9.32%. We therefore conclude by saying that expressions relating to emotions in French are indeed longer than English expressions.\n",
    "\n",
    "However, we do not know the reason for this difference. Is it the French lexical field that is more developed on this subject than English, or the English language that has a more precise vocabulary than French, or perhaps translation plays an important role in this percentage. It would then be interesting to carry out the same study but on English comments translated into French."
   ]
  }
 ],
 "metadata": {
  "kernelspec": {
   "display_name": "Python 3",
   "language": "python",
   "name": "python3"
  },
  "language_info": {
   "codemirror_mode": {
    "name": "ipython",
    "version": 3
   },
   "file_extension": ".py",
   "mimetype": "text/x-python",
   "name": "python",
   "nbconvert_exporter": "python",
   "pygments_lexer": "ipython3",
   "version": "3.12.7"
  }
 },
 "nbformat": 4,
 "nbformat_minor": 2
}
